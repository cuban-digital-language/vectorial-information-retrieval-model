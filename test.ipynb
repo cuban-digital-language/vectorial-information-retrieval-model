{
 "cells": [
  {
   "cell_type": "code",
   "execution_count": 1,
   "metadata": {},
   "outputs": [],
   "source": [
    "from vectorial_corpus_analize import main\n",
    "main()"
   ]
  },
  {
   "cell_type": "code",
   "execution_count": 2,
   "metadata": {},
   "outputs": [],
   "source": [
    "query = \"Los mejores tiempos de la revolución cubana\""
   ]
  },
  {
   "cell_type": "code",
   "execution_count": 3,
   "metadata": {},
   "outputs": [],
   "source": [
    "from vectorial_query_analize import vectorized\n",
    "vector, _dict_ = vectorized(query, alpha=0.5)"
   ]
  },
  {
   "cell_type": "code",
   "execution_count": 4,
   "metadata": {},
   "outputs": [
    {
     "name": "stderr",
     "output_type": "stream",
     "text": [
      "[###########################################################]ranking sorted100%\n"
     ]
    }
   ],
   "source": [
    "from vectorial_query_analize import get_ranking\n",
    "ranking = get_ranking(vector, _dict_)"
   ]
  },
  {
   "cell_type": "code",
   "execution_count": 5,
   "metadata": {},
   "outputs": [],
   "source": [
    "from data_struct import pretty\n",
    "i = 0"
   ]
  },
  {
   "cell_type": "code",
   "execution_count": 13,
   "metadata": {},
   "outputs": [
    {
     "name": "stdout",
     "output_type": "stream",
     "text": [
      "Este jueves 28 de abril cumple 90 años el Héroe de la República de Cuba y Comandante de la Revolución Ramiro Valdés Menéndez, uno de los líderes históricos del proceso revolucionario \u001b[92mcubano\u001b[00m Ramiro fue asaltante al Moncada, expedicionario del yate Granma, guerrillero y segundo jefe de la Columna N.º 8 Ciro Redondo. Luego del triunfo de la Revolución cubana, asumió los cargos de ministro del Interior en dos ocasiones, ministro de la Informática y las Comunicaciones, vicepresidente del Consejo de Estado y miembro del Buró Político del Partido Comunista de Cuba. Desde 2019 se desempeña como vice primer ministro de la República. #Cuba No necesita presentaciones. Su modestia, entrega y fidelidad sin límites a la Revolución y a sus líderes, su verde olivo andante, su mirada escudriñadora, su valentía, inteligencia y discreción son un gran ejemplo. Muchas Felicidades Comandante Ramiro, en su 90 cumpleaños. pic.twitter.com/PGqfw3tHby — Partido Comunista de Cuba  April 28, 2022\n",
      "\n",
      "#####################################################################\n",
      "\n",
      "Muchas felicidades a nuestro querido Comandante de la \u001b[92mRevolución\u001b[00m\n"
     ]
    }
   ],
   "source": [
    "_, doc = ranking[i]\n",
    "text, comment = doc.split(' -> ') \n",
    "text, comment = pretty(_dict_, text, comment)\n",
    "\n",
    "\n",
    "print(f'Ranking #: {i}')\n",
    "print(\"\\n#####################################################################\\n\")\n",
    "print(text)\n",
    "print(\"\\n#####################################################################\\n\")\n",
    "print(comment)\n",
    "i += 1"
   ]
  }
 ],
 "metadata": {
  "interpreter": {
   "hash": "2e704c88e4d11effd741a7215f27062ad01fd6ea68d6b841cbb628cfbd50b666"
  },
  "kernelspec": {
   "display_name": "Python 3.9.10 ('test-r4tHshs9')",
   "language": "python",
   "name": "python3"
  },
  "language_info": {
   "codemirror_mode": {
    "name": "ipython",
    "version": 3
   },
   "file_extension": ".py",
   "mimetype": "text/x-python",
   "name": "python",
   "nbconvert_exporter": "python",
   "pygments_lexer": "ipython3",
   "version": "3.9.10"
  }
 },
 "nbformat": 4,
 "nbformat_minor": 2
}
