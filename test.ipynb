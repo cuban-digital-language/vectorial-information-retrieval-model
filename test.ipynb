{
 "cells": [
  {
   "cell_type": "code",
   "execution_count": 1,
   "metadata": {},
   "outputs": [],
   "source": [
    "from vectorial_corpus_analize import main\n",
    "main()"
   ]
  },
  {
   "cell_type": "code",
   "execution_count": 2,
   "metadata": {},
   "outputs": [],
   "source": [
    "query = \"Los mejores tiempos de la revolución cubana\""
   ]
  },
  {
   "cell_type": "code",
   "execution_count": 3,
   "metadata": {},
   "outputs": [],
   "source": [
    "from vectorial_query_analize import vectorized\n",
    "vector, _dict_ = vectorized(query, alpha=0.5)"
   ]
  },
  {
   "cell_type": "code",
   "execution_count": null,
   "metadata": {},
   "outputs": [],
   "source": [
    "from vectorial_query_analize import get_ranking\n",
    "ranking = get_ranking(vector, _dict_)"
   ]
  },
  {
   "cell_type": "code",
   "execution_count": 14,
   "metadata": {},
   "outputs": [],
   "source": [
    "from data_struct import pretty\n",
    "i = 0"
   ]
  },
  {
   "cell_type": "code",
   "execution_count": 15,
   "metadata": {},
   "outputs": [
    {
     "name": "stdout",
     "output_type": "stream",
     "text": [
      "Ranking #: 0\n",
      "\n",
      "#####################################################################\n",
      "\n",
      "Teniendo en cuenta la situación existente con la disponibilidad de productos y con el objetivo de hacer más viable la venta, lograr mayor equidad y por consiguiente disminuir la aglomeración de personas en los establecimientos, se ha decidido adoptar un grupo de medidas, entre las que se encuentran: Estas medidas se ponen en vigor a partir del próximo jueves 21 de abril y en correspondencia con las características de cada municipio, los grupos municipales organizarán su sistema de trabajo y de control, para ir aplicando cada medida y estableciendo el procedimiento para lograr el objetivo previsto. \n",
      "\n",
      "#####################################################################\n",
      "\n",
      "Muy de acuerdo con el primer comentario. Deberían venderlo todo en las bodegas y así la igualdad y no la equidad estaria presente. \u001b[47mRevolución\u001b[00mes igualdad\n"
     ]
    }
   ],
   "source": [
    "_, doc = ranking[i]\n",
    "text, comment = doc.split(' -> ') \n",
    "text, comment = pretty(_dict_, text, comment)\n",
    "\n",
    "\n",
    "print(f'Ranking #: {i}')\n",
    "print(\"\\n#####################################################################\\n\")\n",
    "print(text)\n",
    "print(\"\\n#####################################################################\\n\")\n",
    "print(comment)\n",
    "i += 1"
   ]
  }
 ],
 "metadata": {
  "interpreter": {
   "hash": "2e704c88e4d11effd741a7215f27062ad01fd6ea68d6b841cbb628cfbd50b666"
  },
  "kernelspec": {
   "display_name": "Python 3 (ipykernel)",
   "language": "python",
   "name": "python3"
  },
  "language_info": {
   "codemirror_mode": {
    "name": "ipython",
    "version": 3
   },
   "file_extension": ".py",
   "mimetype": "text/x-python",
   "name": "python",
   "nbconvert_exporter": "python",
   "pygments_lexer": "ipython3",
   "version": "3.9.10"
  }
 },
 "nbformat": 4,
 "nbformat_minor": 2
}
