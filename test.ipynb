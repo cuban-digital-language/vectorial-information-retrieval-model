{
 "cells": [
  {
   "cell_type": "code",
   "execution_count": 9,
   "metadata": {},
   "outputs": [
    {
     "data": {
      "text/plain": [
       "'localhost'"
      ]
     },
     "execution_count": 9,
     "metadata": {},
     "output_type": "execute_result"
    }
   ],
   "source": [
    "import os\n",
    "\n",
    "os.environ[\"HOST_DB\"]"
   ]
  },
  {
   "cell_type": "code",
   "execution_count": null,
   "metadata": {},
   "outputs": [],
   "source": [
    "\n",
    "from vectorial_corpus_analize import main\n",
    "main()"
   ]
  },
  {
   "cell_type": "code",
   "execution_count": 2,
   "metadata": {},
   "outputs": [],
   "source": [
    "query = \"Los mejores tiempos de la revolución cubana\""
   ]
  },
  {
   "cell_type": "code",
   "execution_count": 3,
   "metadata": {},
   "outputs": [],
   "source": [
    "from vectorial_query_analize import vectorized\n",
    "vector, _dict_ = vectorized(query)"
   ]
  },
  {
   "cell_type": "code",
   "execution_count": 4,
   "metadata": {},
   "outputs": [
    {
     "name": "stderr",
     "output_type": "stream",
     "text": [
      "[###########################################################]ranking sorted100%\n"
     ]
    }
   ],
   "source": [
    "from vectorial_query_analize import get_ranking\n",
    "ranking = get_ranking(vector, _dict_)"
   ]
  },
  {
   "cell_type": "code",
   "execution_count": 5,
   "metadata": {},
   "outputs": [],
   "source": [
    "i = 0"
   ]
  },
  {
   "cell_type": "code",
   "execution_count": 18,
   "metadata": {},
   "outputs": [
    {
     "name": "stdout",
     "output_type": "stream",
     "text": [
      "Teniendo en cuenta la situación existente con la disponibilidad de productos y con el objetivo de hacer más viable la venta, lograr mayor equidad y por consiguiente disminuir la aglomeración de personas en los establecimientos, se ha decidido adoptar un grupo de medidas, entre las que se encuentran: Estas medidas se ponen en vigor a partir del próximo jueves 21 de abril y en correspondencia con las características de cada municipio, los grupos municipales organizarán su sistema de trabajo y de control, para ir aplicando cada medida y estableciendo el procedimiento para lograr el objetivo previsto.  \n",
      "\n",
      "#####################################################################\n",
      "\n",
      " Muy de acuerdo con el primer comentario. Deberían venderlo todo en las bodegas y así la igualdad y no la equidad estaria presente. Revolución es igualdad\n"
     ]
    }
   ],
   "source": [
    "_, doc = ranking[i]\n",
    "text, comment = doc.split('->') \n",
    "\n",
    "for term in _dict_:\n",
    "    text = text.replace(term, \"\\33[92m{}\\033[00m\".format(term))\n",
    "    comment = comment.replace(term, \"\\33[92m{}\\033[00m\".format(term))\n",
    "print(text)\n",
    "print(\"\\n#####################################################################\\n\")\n",
    "print(comment)\n",
    "i += 1"
   ]
  }
 ],
 "metadata": {
  "kernelspec": {
   "display_name": "cuba-digital-lang",
   "language": "python",
   "name": "cuba-digital-lang"
  },
  "language_info": {
   "codemirror_mode": {
    "name": "ipython",
    "version": 3
   },
   "file_extension": ".py",
   "mimetype": "text/x-python",
   "name": "python",
   "nbconvert_exporter": "python",
   "pygments_lexer": "ipython3",
   "version": "3.9.10"
  }
 },
 "nbformat": 4,
 "nbformat_minor": 2
}
