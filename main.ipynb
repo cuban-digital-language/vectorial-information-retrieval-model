{
 "cells": [
  {
   "cell_type": "code",
   "execution_count": 1,
   "metadata": {},
   "outputs": [],
   "source": [
    "import json\n",
    " \n",
    "# Opening JSON file\n",
    "f = open('./cubadebate.json')\n",
    " \n",
    "# returns JSON object as\n",
    "# a dictionary\n",
    "data = json.load(f)\n",
    "f.close()\n",
    "social_net = 'cubadebate'\n",
    "document_dict = {}"
   ]
  },
  {
   "cell_type": "code",
   "execution_count": 7,
   "metadata": {},
   "outputs": [],
   "source": [
    "from redis import Redis\n",
    "\n",
    "vectorial_db = Redis(host='localhost', port=6379, db=6)\n"
   ]
  },
  {
   "cell_type": "code",
   "execution_count": 3,
   "metadata": {},
   "outputs": [
    {
     "name": "stdout",
     "output_type": "stream",
     "text": [
      "8530 document total\n"
     ]
    }
   ],
   "source": [
    "class Document:\n",
    "    def __init__(self, text, url):\n",
    "        self.text = text\n",
    "        self.url = url\n",
    "        self.total_term = 0\n",
    "        self.f_max = 0\n",
    "        self.vector = None\n",
    "\n",
    "for obj in data:\n",
    "    header = obj['text']\n",
    "    url = obj['url']\n",
    "    for c in obj['comments']:\n",
    "        all_text = header + ' -> ' + c['text']\n",
    "        hsh = hash(all_text)\n",
    "        document_dict[hsh] = Document(all_text, url)\n",
    "\n",
    "N = len(document_dict)\n",
    "print(f\"{N} document total\")"
   ]
  },
  {
   "cell_type": "code",
   "execution_count": 2,
   "metadata": {},
   "outputs": [],
   "source": [
    "import spacy\n",
    "\n",
    "nlp = spacy.load(\"es_core_news_sm\")\n",
    "term_dict = {}"
   ]
  },
  {
   "cell_type": "code",
   "execution_count": 4,
   "metadata": {},
   "outputs": [],
   "source": [
    "class Term:\n",
    "    def __init__(self):\n",
    "        self.doc_count = {}\n",
    "    \n",
    "    def add_match(self, hsh_doc):\n",
    "        try: self.doc_count[hsh_doc] += 1\n",
    "        except KeyError: self.doc_count[hsh_doc] = 1\n",
    "    \n",
    "    def match_by_document(self, hsh_doc):\n",
    "        try: return self.doc_count[hsh_doc]\n",
    "        except: return 0\n",
    "    \n",
    "    @property\n",
    "    def match_len(self):\n",
    "        return len(self.doc_count)"
   ]
  },
  {
   "cell_type": "code",
   "execution_count": 19,
   "metadata": {},
   "outputs": [],
   "source": [
    "import progressbar\n",
    "bar = progressbar.ProgressBar(maxval=N, \\\n",
    "    widgets=[progressbar.Bar('#', '[', ']'), ' ', progressbar.Percentage()])\n"
   ]
  },
  {
   "cell_type": "code",
   "execution_count": null,
   "metadata": {},
   "outputs": [],
   "source": [
    "\n",
    "bar.start()\n",
    "for i, key in enumerate(document_dict):\n",
    "    doc = nlp(document_dict[key].text)\n",
    "    count = 0\n",
    "    for token in doc:\n",
    "        if token.is_stop or token.is_punct or token.is_digit: continue\n",
    "\n",
    "        count += 1\n",
    "        try: term = term_dict[token.lemma_.lower()]\n",
    "        except KeyError: term = term_dict[token.lemma_.lower()] = Term()\n",
    "\n",
    "        term.add_match(key)\n",
    "    \n",
    "    for entity in doc.ents:\n",
    "\n",
    "        try: term = term_dict[entity.text.lower()]\n",
    "        except KeyError: term = term_dict[entity.text.lower()] = Term()\n",
    "        count += 1\n",
    "        term.add_match(key)\n",
    "    \n",
    "    bar.update(i+1)\n",
    "    document_dict[key].total_term = count\n",
    "\n",
    "\n",
    "\n",
    "bar.finish()\n"
   ]
  },
  {
   "cell_type": "code",
   "execution_count": 7,
   "metadata": {},
   "outputs": [
    {
     "name": "stdout",
     "output_type": "stream",
     "text": [
      "47820 term total\n"
     ]
    }
   ],
   "source": [
    "tn = len(term_dict)\n",
    "print(f\"{tn} term total\")"
   ]
  },
  {
   "cell_type": "code",
   "execution_count": 8,
   "metadata": {},
   "outputs": [
    {
     "name": "stderr",
     "output_type": "stream",
     "text": [
      "[########################################################################] 100%\r"
     ]
    }
   ],
   "source": [
    "\n",
    "bar.start()\n",
    "for i, key in enumerate(document_dict):\n",
    "    f_list = []\n",
    "    for term in term_dict:\n",
    "        f_list.append(term_dict[term].match_by_document(key))\n",
    "\n",
    "    document_dict[key].f_max = max(f_list)\n",
    "    bar.update(i+1)\n",
    "\n",
    "bar.finish()\n"
   ]
  },
  {
   "cell_type": "code",
   "execution_count": 9,
   "metadata": {},
   "outputs": [],
   "source": [
    "from math import log\n",
    "\n",
    "def get_weight(word, hsh_doc):\n",
    "    term = term_dict[word]\n",
    "    doc = document_dict[hsh_doc]\n",
    "    tf = term.match_by_document(hsh_doc)/ doc.f_max\n",
    "    idf = log(N/term.match_len)\n",
    "\n",
    "    return tf * idf"
   ]
  },
  {
   "cell_type": "code",
   "execution_count": 10,
   "metadata": {},
   "outputs": [
    {
     "name": "stderr",
     "output_type": "stream",
     "text": [
      "[########################################################################] 100%\r"
     ]
    }
   ],
   "source": [
    "bar.start()\n",
    "for i, key in enumerate(document_dict):\n",
    "    vector = []\n",
    "    for term in term_dict:\n",
    "        vector.append(get_weight(term, key))\n",
    "\n",
    "    document_dict[key].vector = vector\n",
    "    bar.update(i+1)\n",
    "\n",
    "bar.finish()"
   ]
  },
  {
   "cell_type": "code",
   "execution_count": 13,
   "metadata": {},
   "outputs": [
    {
     "name": "stderr",
     "output_type": "stream",
     "text": [
      "[########################################################################] 100%\r"
     ]
    },
    {
     "data": {
      "text/plain": [
       "True"
      ]
     },
     "execution_count": 13,
     "metadata": {},
     "output_type": "execute_result"
    }
   ],
   "source": [
    "# bar.start()\n",
    "for i, term in enumerate(term_dict):\n",
    "    temp = {}\n",
    "    for key in document_dict:\n",
    "        try:w = document_dict[key].vector[i]\n",
    "        except: w= 0\n",
    "        if w != 0: temp[key] = w\n",
    "\n",
    "    # bar.update(i+1)\n",
    "    vectorial_db.set(term, str(temp))\n",
    "# bar.finish()\n",
    "\n",
    "bar.start()\n",
    "for i, key in enumerate(document_dict):\n",
    "    doc = document_dict[key]\n",
    "    wd2 = sum([w*w for w in doc.vector])\n",
    "    vectorial_db.set(key, str({\n",
    "        'text': document_dict[key].text,\n",
    "        'f_max': document_dict[key].f_max,\n",
    "        'w2': wd2\n",
    "    }))\n",
    "    bar.update(i+1)\n",
    "bar.finish()\n",
    "\n",
    "    \n",
    "vectorial_db.set('_$N$_', N)"
   ]
  },
  {
   "cell_type": "code",
   "execution_count": 63,
   "metadata": {},
   "outputs": [],
   "source": [
    "query = \"covid-19\"\n",
    "\n",
    "key = 'query'\n",
    "query_term_dict = {}\n",
    "doc = nlp(query)\n",
    "count = 0\n",
    "\n",
    "for token in doc:\n",
    "    if token.is_stop or token.is_punct or token.is_digit: continue\n",
    "    count += 1\n",
    "    try: term = query_term_dict[token.lemma_.lower()]\n",
    "    except KeyError: term = query_term_dict[token.lemma_.lower()] = Term()\n",
    "    term.add_match(key)\n",
    "\n",
    "for entity in doc.ents:\n",
    "    try: term = query_term_dict[entity.text.lower()]\n",
    "    except KeyError: term = query_term_dict[entity.text.lower()] = Term()\n",
    "    count += 1\n",
    "    term.add_match(key)\n",
    "\n"
   ]
  },
  {
   "cell_type": "code",
   "execution_count": 64,
   "metadata": {},
   "outputs": [],
   "source": [
    "import ast\n",
    "\n",
    "f_list = []\n",
    "for term in query_term_dict:\n",
    "    if vectorial_db.get(term) is None: continue\n",
    "    f_list.append(query_term_dict[term].match_by_document(key))\n",
    "\n",
    "\n",
    "fiq_max = max(f_list)\n",
    "N = int(vectorial_db.get('_$N$_'))\n",
    "q_vector = []\n",
    "for word in query_term_dict:\n",
    "    dict_ = vectorial_db.get(word)\n",
    "    if dict_ is None: continue\n",
    "\n",
    "\n",
    "    try: fi = query_term_dict[word].match_by_document(key)\n",
    "    except KeyError:  fi = 0\n",
    "\n",
    "    idf = log(N/len(ast.literal_eval(dict_.decode())))\n",
    "    q_vector.append((0.5 + 0.5 * fi/fiq_max) * idf)\n"
   ]
  },
  {
   "cell_type": "code",
   "execution_count": 65,
   "metadata": {},
   "outputs": [],
   "source": [
    "a = vectorial_db.keys()\n",
    "\n",
    "document_list = []\n",
    "for key in a:\n",
    "    try: document_list.append(int(key))\n",
    "    except ValueError: \n",
    "        pass\n"
   ]
  },
  {
   "cell_type": "code",
   "execution_count": 66,
   "metadata": {},
   "outputs": [
    {
     "name": "stderr",
     "output_type": "stream",
     "text": [
      "[########################################################################] 100%\n"
     ]
    }
   ],
   "source": [
    "import progressbar\n",
    "bar = progressbar.ProgressBar(maxval=len(document_list), \\\n",
    "    widgets=[progressbar.Bar('#', '[', ']'), ' ', progressbar.Percentage()])\n",
    "\n",
    "wq2 = sum([w*w for w in q_vector])\n",
    "\n",
    "t_dict = {}\n",
    "for term in query_term_dict:\n",
    "    dict_ = vectorial_db.get(term)\n",
    "    if dict_ is None : t_dict[term] = dict_\n",
    "    else: t_dict[term] = ast.literal_eval(dict_.decode())\n",
    "\n",
    "bar.start()\n",
    "ranking_list = []\n",
    "for i, tuple_ in enumerate(zip(document_list, vectorial_db.mget(document_list))):\n",
    "    doc_vector = []\n",
    "    key, doc = tuple_\n",
    "    if doc is None: continue\n",
    "    doc = ast.literal_eval(doc.decode())\n",
    "    if not 'w2' in doc: continue\n",
    "\n",
    "    for term in query_term_dict:\n",
    "        dict_ = t_dict[term]\n",
    "        if dict_ is None: continue\n",
    "\n",
    "        try: doc_vector.append( dict_[key]/doc['f_max'] )\n",
    "        except: doc_vector.append(0)\n",
    "\n",
    "    wij = sum([d*q for d, q in zip(doc_vector, q_vector)])\n",
    "\n",
    "    ranking_list.append((wij/(wq2* doc['w2']), doc['text']))\n",
    "    bar.update(i+1)\n",
    "\n",
    "bar.finish()\n",
    "\n",
    "\n",
    "ranking_list.sort(key=lambda x: x[0], reverse=True)\n",
    "i = 0"
   ]
  },
  {
   "cell_type": "code",
   "execution_count": 76,
   "metadata": {},
   "outputs": [
    {
     "name": "stdout",
     "output_type": "stream",
     "text": [
      "En correspondencia con la situación epidemiológica internacional y nacional de la COVID-19 y los niveles de inmunización alcanzados, se ha decidido realizar las siguientes modificaciones a los requisitos de entrada al país como parte del Control Sanitario Internacional. De acuerdo con Francisco Durán García, director nacional de Epidemiología del Minsap, las medidas de flexibilización entrarán en vigor el 6 de abril.  \n",
      "\n",
      "#####################################################################\n",
      "\n",
      " Estoy en las mismas...\n"
     ]
    }
   ],
   "source": [
    "_, doc = ranking_list[i]\n",
    "text, comment = doc.split('->') \n",
    "\n",
    "for term in query_term_dict:\n",
    "    text = text.replace(term, \"\\33[92m{}\\033[00m\".format(term))\n",
    "    comment = comment.replace(term, \"\\33[92m{}\\033[00m\".format(term))\n",
    "print(text)\n",
    "print(\"\\n#####################################################################\\n\")\n",
    "print(comment)\n",
    "i += 1"
   ]
  },
  {
   "cell_type": "code",
   "execution_count": 43,
   "metadata": {},
   "outputs": [
    {
     "name": "stdout",
     "output_type": "stream",
     "text": [
      "Teniendo en cuenta la situación existente con la disponibilidad de productos y con el objetivo de hacer más viable la venta, lograr mayor equidad y por consiguiente disminuir la aglomeración de personas en los establecimientos, se ha decidido adoptar un grupo de medidas, entre las que se encuentran: Estas medidas se ponen en vigor a partir del próximo jueves 21 de abril y en correspondencia con las características de cada municipio, los grupos municipales organizarán su sistema de trabajo y de control, para ir aplicando cada medida y estableciendo el procedimiento para lograr el objetivo previsto.  \n",
      "\n",
      "#####################################################################\n",
      "\n",
      " Una nueva medida que afecta al trabajador pues no hay \u001b[92mtiempo\u001b[00m para comprar en lo que te trasladada al lugar de residencia. Hasta cuándo nuestros dirigentes de La Habana van a seguir tomando medidas que afecten al pueblo \u001b[92mrevolucion\u001b[00mario,es hora de poner los pies en la tierra y pensar en las consecuencias de lo que hacen o tendremos que dejar de trabajar para hacer colas\n"
     ]
    }
   ],
   "source": [
    "_, doc = ranking_list[i]\n",
    "text, comment = doc.split('->') \n",
    "\n",
    "for term in query_term_dict:\n",
    "    text = text.replace(term, \"\\33[92m{}\\033[00m\".format(term))\n",
    "    comment = comment.replace(term, \"\\33[92m{}\\033[00m\".format(term))\n",
    "print(text)\n",
    "print(\"\\n#####################################################################\\n\")\n",
    "print(comment)\n",
    "i += 1"
   ]
  },
  {
   "cell_type": "code",
   "execution_count": 44,
   "metadata": {},
   "outputs": [
    {
     "name": "stdout",
     "output_type": "stream",
     "text": [
      "Teniendo en cuenta la situación existente con la disponibilidad de productos y con el objetivo de hacer más viable la venta, lograr mayor equidad y por consiguiente disminuir la aglomeración de personas en los establecimientos, se ha decidido adoptar un grupo de medidas, entre las que se encuentran: Estas medidas se ponen en vigor a partir del próximo jueves 21 de abril y en correspondencia con las características de cada municipio, los grupos municipales organizarán su sistema de trabajo y de control, para ir aplicando cada medida y estableciendo el procedimiento para lograr el objetivo previsto.  \n",
      "\n",
      "#####################################################################\n",
      "\n",
      " Yo estoy de acuerdo en que pongan los productos por bodegas y carnicerías, porque los que trabajamos no podemos adquirir nada. Además en las tiendas siempre son los mismos en las colas, no entiendo porque si se debe apuntar en la libreta de abastecimiento y toca cada cierto \u001b[92mtiempo\u001b[00m. El problema es que no les apuntan y vuelven a coger para después revender.\n"
     ]
    }
   ],
   "source": [
    "_, doc = ranking_list[i]\n",
    "text, comment = doc.split('->') \n",
    "\n",
    "for term in query_term_dict:\n",
    "    text = text.replace(term, \"\\33[92m{}\\033[00m\".format(term))\n",
    "    comment = comment.replace(term, \"\\33[92m{}\\033[00m\".format(term))\n",
    "print(text)\n",
    "print(\"\\n#####################################################################\\n\")\n",
    "print(comment)\n",
    "i += 1"
   ]
  },
  {
   "cell_type": "code",
   "execution_count": 45,
   "metadata": {},
   "outputs": [
    {
     "name": "stdout",
     "output_type": "stream",
     "text": [
      "Teniendo en cuenta la situación existente con la disponibilidad de productos y con el objetivo de hacer más viable la venta, lograr mayor equidad y por consiguiente disminuir la aglomeración de personas en los establecimientos, se ha decidido adoptar un grupo de medidas, entre las que se encuentran: Estas medidas se ponen en vigor a partir del próximo jueves 21 de abril y en correspondencia con las características de cada municipio, los grupos municipales organizarán su sistema de trabajo y de control, para ir aplicando cada medida y estableciendo el procedimiento para lograr el objetivo previsto.  \n",
      "\n",
      "#####################################################################\n",
      "\n",
      " Pienso que sería bueno la municipalizacion e incluso debería realizarse por bodega pq la masa trabajadora que no tenemos \u001b[92mtiempo\u001b[00m para colas tenemos que comprar más que sobreprecio y mantener a los coleros o no comer. Si toda la epidemia no hemos podido comprar pq no establecer que todos los núcleos podamos comprar aunque sea cada mes y medio o el \u001b[92mtiempo\u001b[00m que de sería lo más justo gracias\n"
     ]
    }
   ],
   "source": [
    "_, doc = ranking_list[i]\n",
    "text, comment = doc.split('->') \n",
    "\n",
    "for term in query_term_dict:\n",
    "    text = text.replace(term, \"\\33[92m{}\\033[00m\".format(term))\n",
    "    comment = comment.replace(term, \"\\33[92m{}\\033[00m\".format(term))\n",
    "print(text)\n",
    "print(\"\\n#####################################################################\\n\")\n",
    "print(comment)\n",
    "i += 1"
   ]
  },
  {
   "cell_type": "code",
   "execution_count": 46,
   "metadata": {},
   "outputs": [
    {
     "name": "stdout",
     "output_type": "stream",
     "text": [
      "Teniendo en cuenta la situación existente con la disponibilidad de productos y con el objetivo de hacer más viable la venta, lograr mayor equidad y por consiguiente disminuir la aglomeración de personas en los establecimientos, se ha decidido adoptar un grupo de medidas, entre las que se encuentran: Estas medidas se ponen en vigor a partir del próximo jueves 21 de abril y en correspondencia con las características de cada municipio, los grupos municipales organizarán su sistema de trabajo y de control, para ir aplicando cada medida y estableciendo el procedimiento para lograr el objetivo previsto.  \n",
      "\n",
      "#####################################################################\n",
      "\n",
      " Bienvenida la organización, hace mucho \u001b[92mtiempo\u001b[00m debieron hacerlo. Pero a nuestro entender por que no en las bodegas???? Para garantizar que los negocios q existen en estos momentos, producto de la necesidad, se minimicen y podamos alcanzar los productos con precios asequibles\n"
     ]
    }
   ],
   "source": [
    "_, doc = ranking_list[i]\n",
    "text, comment = doc.split('->') \n",
    "\n",
    "for term in query_term_dict:\n",
    "    text = text.replace(term, \"\\33[92m{}\\033[00m\".format(term))\n",
    "    comment = comment.replace(term, \"\\33[92m{}\\033[00m\".format(term))\n",
    "print(text)\n",
    "print(\"\\n#####################################################################\\n\")\n",
    "print(comment)\n",
    "i += 1"
   ]
  },
  {
   "cell_type": "code",
   "execution_count": 47,
   "metadata": {},
   "outputs": [
    {
     "name": "stdout",
     "output_type": "stream",
     "text": [
      "En correspondencia con la situación epidemiológica internacional y nacional de la COVID-19 y los niveles de inmunización alcanzados, se ha decidido realizar las siguientes modificaciones a los requisitos de entrada al país como parte del Control Sanitario Internacional. De acuerdo con Francisco Durán García, director nacional de Epidemiología del Minsap, las medidas de flexibilización entrarán en vigor el 6 de abril.  \n",
      "\n",
      "#####################################################################\n",
      "\n",
      " Mi pregunta es cuándo se podrá dejar de usar la mascarilla todo el \u001b[92mtiempo\u001b[00m, considero que para entrar a tiendas o establecimientos públicos es necesaria Perooooooo que no sea de carácter obligatorio todo el \u001b[92mtiempo\u001b[00m. Ya en muchos países la mascarilla es opcional.\n"
     ]
    }
   ],
   "source": [
    "_, doc = ranking_list[i]\n",
    "text, comment = doc.split('->') \n",
    "\n",
    "for term in query_term_dict:\n",
    "    text = text.replace(term, \"\\33[92m{}\\033[00m\".format(term))\n",
    "    comment = comment.replace(term, \"\\33[92m{}\\033[00m\".format(term))\n",
    "print(text)\n",
    "print(\"\\n#####################################################################\\n\")\n",
    "print(comment)\n",
    "i += 1"
   ]
  },
  {
   "cell_type": "code",
   "execution_count": null,
   "metadata": {},
   "outputs": [],
   "source": []
  }
 ],
 "metadata": {
  "kernelspec": {
   "display_name": "cuba-digital-lang",
   "language": "python",
   "name": "cuba-digital-lang"
  },
  "language_info": {
   "codemirror_mode": {
    "name": "ipython",
    "version": 3
   },
   "file_extension": ".py",
   "mimetype": "text/x-python",
   "name": "python",
   "nbconvert_exporter": "python",
   "pygments_lexer": "ipython3",
   "version": "3.9.10"
  }
 },
 "nbformat": 4,
 "nbformat_minor": 2
}
